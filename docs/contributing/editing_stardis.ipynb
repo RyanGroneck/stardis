{
 "cells": [
  {
   "cell_type": "markdown",
   "metadata": {},
   "source": [
    "# Editing STARDIS"
   ]
  },
  {
   "cell_type": "markdown",
   "metadata": {},
   "source": [
    "Now that you have installed STARDIS and hopefully set up everything you need, you can now get started on **your first Pull Request**."
   ]
  },
  {
   "cell_type": "markdown",
   "metadata": {},
   "source": [
    "## Before You Edit"
   ]
  },
  {
   "cell_type": "markdown",
   "metadata": {},
   "source": [
    "There are several things you must do before you can start patching some bugs, fixing those typos, or adding that new feature."
   ]
  },
  {
   "cell_type": "markdown",
   "metadata": {},
   "source": [
    "### Starting Your Environment"
   ]
  },
  {
   "cell_type": "markdown",
   "metadata": {},
   "source": [
    "1) Launch your Bash terminal, either using the **terminal app on Mac** or the **WSL or Ubuntu application on Windows**  \n",
    "\n",
    "2) Navigate to your **Stardis directory**, using the commands `ls` to *list* directory options and `cd <directory_name>` to *change* to the given *directory*.\n",
    "\n",
    "3) Start your **Stardis Environment** by running the command `conda activate Stardis`"
   ]
  },
  {
   "cell_type": "markdown",
   "metadata": {},
   "source": [
    "### Branches"
   ]
  },
  {
   "cell_type": "markdown",
   "metadata": {},
   "source": [
    "One of the main reasons we use Git is because of Git **Branches**. Branches are like off-shoots of main code, where you can make changes to a specific feature or file without immediately worrying about the broader implications of your changes. The main code is in a branch called `main` (great naming, right?)<!-- <<< Should this whimsy be removed?-->, and can be refered to as the *trunk*, because the other branches come off of it.\n",
    "\n",
    "Its important to keep in mind that when you want to start working on a new feature or change, **make a new branch for that change!** This way, when you make the Pull request to apply that change, the reviewers know exactly what your change does, and the proccess goes smoothly. \n",
    "\n",
    "- Make a new Branch with the command: `git branch my_branch_name`\n",
    "\n",
    "- Change to your new branch with the command: `git checkout my_branch_name`\n",
    "\n",
    "- To do both at once, use: `git checkout -b my_branch_name`\n",
    "\n",
    "It is good to name your branch after what you are changing in it. For example, the branch name used to make this documentation was `contribution_docs`, so an example from above would look like `git checkout -b contribution_docs`. Make sure to change to the `main` branch before making a new branch, that way you will have a fresh start to make your changes.\n",
    "\n",
    "Lastly, if you need a reminder on what branches you have made, you can use the command `git branch` to see a list."
   ]
  },
  {
   "cell_type": "markdown",
   "metadata": {},
   "source": [
    "## While You Edit"
   ]
  },
  {
   "cell_type": "markdown",
   "metadata": {},
   "source": [
    "While you are clicking through directories, making changes to your hearts desire, there are some things to note.\n",
    "\n",
    "- The changes you make will only impact the version on STARDIS on your computer for now, so you don't have to worry about breaking anything.\n",
    "\n",
    "- After editing a file, make sure to press `ctrl`+`s` to save the file. Otherwise, nothing will be saved.\n",
    "\n",
    "- you can use the command `git status` to remind yourself what branch you are on and see what changes you have made. Do this often!"
   ]
  },
  {
   "cell_type": "markdown",
   "metadata": {},
   "source": [
    "## Apply Your Changes"
   ]
  },
  {
   "cell_type": "markdown",
   "metadata": {},
   "source": [
    "Now that you have made your change, you can finally make a pull request! A pull request is essentially just a suggested change you think should be made to the functional code base of STARDIS. Once accepted, your work will be included in the version of STARDIS that everyone will use."
   ]
  },
  {
   "cell_type": "markdown",
   "metadata": {},
   "source": [
    "### Don't be Scared!"
   ]
  },
  {
   "cell_type": "markdown",
   "metadata": {},
   "source": [
    "You may be worried that your code doesn't work, your changes don't make sense, or that for some reason what you did is not good enough. **This is not the case, we promise!** A pull request can't break anything. If you did make any mistakes, then a pull request is how you can get suggestions and help. It never hurts to make a pull request, and changes can always be revised and edited, even after the initial request. \n",
    "\n",
    "If you are still concerned a PR isn't fully functional, you can always mark a pull request as a draft. To do this, go to the Github website, and find the new PR under either your account or on the STARDIS page. Open the pull request, and on the right side of the screen you should see an option to 'convert to draft'."
   ]
  },
  {
   "cell_type": "markdown",
   "metadata": {},
   "source": [
    "### Make a Pull Request"
   ]
  },
  {
   "cell_type": "markdown",
   "metadata": {},
   "source": [
    "Here are the steps you can take to make your first PR:\n",
    "\n",
    "1) Run the command `git add -A`\n",
    "\n",
    "2) Run the command `git commit -m '<explanation_of_your_pr>'`\n",
    "    - example: git commit -m 'Typo fix in the quickstart notebook'\n",
    "\n",
    "3) Run the command `git push origin <my_branch_name>`\n",
    "    - example: git push origin contribution_docs\n",
    "\n",
    "By doing this, the change you made will be pushed to your fork of STARDIS under your Github account. Next, you need to go to [the original STARDIS repository](https://github.com/tardis-sn/stardis) where you made your clone. There will be a yellow banner asking you to **Compare & Pull Request**.\n",
    "\n",
    "You will then need to fill out a form that goes with the PR where you explain your changes. Make sure to be specific in your explanation of the changes, as well as edit the 'type' field to indicate what your changes effect."
   ]
  }
 ],
 "metadata": {
  "language_info": {
   "name": "python"
  }
 },
 "nbformat": 4,
 "nbformat_minor": 2
}
