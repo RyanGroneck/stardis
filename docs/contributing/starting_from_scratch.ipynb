{
 "cells": [
  {
   "cell_type": "markdown",
   "metadata": {},
   "source": [
    "# Starting from Scratch"
   ]
  },
  {
   "cell_type": "markdown",
   "metadata": {},
   "source": [
    "This page will guide you through everything you need to do to start working on STARDIS, even if you have **no prior experience or knowledge**. mainly, this page will show you how to:\n",
    "\n",
    "- Set up a linux Subsystem for Windows\n",
    "\n",
    "- Install Miniforge/Mambaforge\n",
    "\n",
    "- Install Virtual Studio (VS) Code\n",
    "\n",
    "- Install STARDIS (with more detail than the STARDIS installation page)\n",
    "\n",
    "- Find extra help with Command Line and Python\n",
    "\n",
    "If this all seems trivial to you, then great! You're more than ready to contribute to STARDIS.\n",
    "\n",
    "If you have found yourself asking \"who's Mambaforge?\" or \"what's a VS Code?\", then also great! This is a wonderful opportunity to learn valuable skills, or at least de-mystify the process!"
   ]
  },
  {
   "cell_type": "markdown",
   "metadata": {},
   "source": [
    "## Setup for a Windows Computer"
   ]
  },
  {
   "cell_type": "markdown",
   "metadata": {},
   "source": [
    "If your computer uses Windows, as opposed to Mac or Linux, then you need to take some extra steps before your ready to set up STARDIS. Namely, STARDIS (as well as many other astronomy tools) are designed for computers that run Mac or Linux operating systems, so you will need to set up a [Windows Subsystem for Linux](https://learn.microsoft.com/en-us/windows/wsl/about) (WSL).\n",
    "\n",
    "In short, WSL will let you run a 'distribution', or version, of Linux on your computer in what's called a 'Linux Environment'. You can imagine this as your computer simulating a second, smaller computer that uses Linux instead of Windows. So anything a Linux computer could do, you can do in this mini 'Linux Environment'."
   ]
  },
  {
   "cell_type": "markdown",
   "metadata": {},
   "source": [
    "### installing WSL/Ubuntu"
   ]
  },
  {
   "cell_type": "markdown",
   "metadata": {},
   "source": [
    "The first step of setting up your Windows computer is to open **Windows PowerShell** in **Administrator mode**.\n",
    "\n",
    "<div>\n",
    "<img src=\"windows_powershell.png\" width=\"600\"/>\n",
    "</div>\n"
   ]
  },
  {
   "cell_type": "markdown",
   "metadata": {},
   "source": [
    "1) As shown above, use the Windows Search bar to find 'Windows PowerShell', and make sure to select 'Run as Administrator'. \n",
    "\n",
    "2) After doing this, **Copy the following command into the PowerShell terminal/window:** `dism.exe /online /enable-feature /featurename:Microsoft-Windows-Subsystem-Linux /all /norestart\n",
    "dism.exe /online /enable-feature /featurename:VirtualMachinePlatform /all /norestart`\n",
    "\n",
    "    - You may need to restart your computer after running this command. \n",
    "\n",
    "4) Go to the Microsoft Store and download Ubuntu (this is the 'distribution', or version, of Linux you will be using)\n",
    "\n",
    "5) Lastly, relaunch Windows PowerShell as Administrator and **copy/paste the following command**: `wsl --install`"
   ]
  },
  {
   "cell_type": "markdown",
   "metadata": {},
   "source": [
    "### Using Ubuntu"
   ]
  },
  {
   "cell_type": "markdown",
   "metadata": {},
   "source": [
    "Moving forward, when you want to interact with STARDIS, you'll want to launch either Ubuntu or WSL. Doing so will open a 'Command Line' terminal where you can use 'Bash' commands to navigate between files and launch programs.\n",
    "- Command Line: a text-based interface for executing commands, where you use type instructions instead of a mouse and graphic user interface.\n",
    "\n",
    "- Bash: Bash is a specific command interface used primarily in Linux and macOS, think of it as one possible language used in Command Line.\n",
    "\n",
    "Moving forward, we will be referring to this window as the 'Bash terminal'.\n",
    "<div>\n",
    "<img src=\"bash_terminal.png\" width=\"400\"/>\n",
    "</div>\n",
    "\n",
    "*This is an example of what your Bash terminal should look like. To run a command on the Bash terminal, simply type or copy it in and press enter.*"
   ]
  },
  {
   "cell_type": "markdown",
   "metadata": {},
   "source": [
    "## Install Miniforge/Mambaforge"
   ]
  },
  {
   "cell_type": "markdown",
   "metadata": {},
   "source": [
    "STARDIS requires a variety of packages—bundles of code and tools that add functionality—to run. Miniforge and Mambaforge help manage these packages behind the scenes in whats called 'environments', making installation and updates easier. \n",
    "\n",
    "1) Run one of the following commands in your Bash terminal to download miniforge/mambaforge file:\n",
    "    - for **Mac**: `curl -O https://github.com/conda-forge/miniforge/releases/latest/download/Miniforge3-MacOSX-x86_64.sh`\n",
    "    - for **Linux**: `curl -O https://github.com/conda-forge/miniforge/releases/latest/download/Miniforge3-Linux-x86_64.sh`\n",
    "\n",
    "2) Run one of the following commands to now install the files:\n",
    "    - for **Mac**: `bash Miniforge3-MacOSX-x86_64.sh`\n",
    "    - for **Linux**: `bash Miniforge3-Linux-x86_64.sh`\n",
    "\n",
    "3) You can create and use environments! An example of this would look like `conda create my_env_name`. When installing STARDIS, you will end up creating such environment for STARDIS.\n",
    "\n"
   ]
  },
  {
   "cell_type": "markdown",
   "metadata": {},
   "source": [
    "## Setup for VS Code"
   ]
  },
  {
   "cell_type": "markdown",
   "metadata": {},
   "source": [
    "Visual Studio (VS) code is useful for editing and creating files when working on STARDIS. In short, VS Code provides a much easier method of working on a project, while also having a variety of extensions that can make your job easier.\n",
    "\n",
    "1) **Download VS Code** either [here](https://code.visualstudio.com/download) or on the Microsoft store.\n",
    "    - follow the instruction here for downloading VS Code for MacOS: https://code.visualstudio.com/docs/setup/mac\n",
    "\n",
    "2) If using WSL on Windows, get the **WSL extenstion** for VS Code. [To add an extension](https://code.visualstudio.com/docs/editor/extension-marketplace):\n",
    "    - launch VS Code\n",
    "    - click 'extensions' on the left side of the screen\n",
    "    - search for the desired extension\n",
    "    - select it and click 'install'\n",
    "\n",
    "3) Moving forward, you can directly launch VS Code by running the `code .` command in your terminal when in the desired directory.  "
   ]
  },
  {
   "cell_type": "markdown",
   "metadata": {},
   "source": [
    "## Stardis Installation\n"
   ]
  },
  {
   "cell_type": "markdown",
   "metadata": {},
   "source": [
    "Here we go through some steps of the STARDIS installation documentation in more detail. You can go try and run through installation on your own first, refering back here when/if you need to, or you can go through this section first before moving on to installation. The choice is yours!"
   ]
  },
  {
   "cell_type": "markdown",
   "metadata": {},
   "source": [
    "### Github & SSH key"
   ]
  },
  {
   "cell_type": "markdown",
   "metadata": {},
   "source": [
    "To begin working on STARDIS, you'll need a set up a [Github account](https://github.com/signup?). Github is a platform that lets you easily access, download, and make edits to online 'repositories', which are stored projects others have made (Like STARDIS). Github uses 'Git', a version control system that allows for developers easily keep prior versions of code, work on features without breaking the main program, and collaborate with others.\n",
    "\n",
    "A SSH key is a method of identification for your Github account on your device, which allows you to avoid needing to constantly provide your Github login info when using Git to make changes to STARDIS. Here, we will show you how to set up a SSH key.\n",
    "\n",
    "1) **Create a Github Account**. If you have not done so already, create a [Github account](https://github.com/signup?).\n",
    "\n",
    "2) **Generate a SSH key**. Copy this command into your Bash terminal: `ssh-keygen -t ed25519 -C \"your-email@example.com\"`. Replace `your-email@example.com` with the email you used for your Github account.\n",
    "    - When prompted to enter a file to save the key in, just press enter. This uses the default file location.\n",
    "\n",
    "    - You will be prompted to create a passphrase, or password, for your key. Note that when you type this, it may look like no characters are being typed; this is normal, so be careful! \n",
    "\n",
    "3) **Add your SSH key to the SSH Agent**. Run the following three commands in your Bash terminal:\n",
    "    - `eval \"$(ssh-agent -s)\"`\n",
    "    - `ssh-add ~/.ssh/id_ed25519`\n",
    "    - `cat ~/.ssh/id_ed25519.pub` <-- *this just copies your key to clipboard, which is used in the next step*\n",
    "\n",
    "4) **Add the SSH key to your Github Account**.\n",
    "    - Open [GitHub SSH Keys](https://github.com/settings/keys)\n",
    "    - Click “New SSH Key”.\n",
    "    - In \"Title\", enter a name (e.g., \"My Laptop\").\n",
    "    - Paste the copied key into the \"Key\" field.\n",
    "    - Click \"Add SSH Key\".\n",
    "\n",
    "If you get stuck somewhere along the way, you can try\n",
    "- [Github's instructions for setting up a SSH key](https://docs.github.com/en/authentication/connecting-to-github-with-ssh/generating-a-new-ssh-key-and-adding-it-to-the-ssh-agent)\n",
    "\n",
    "- Watching this [youtube walkthrough](https://www.youtube.com/watch?v=snCP3c7wXw0)\n",
    "\n",
    "- Asking a generative AI for help (like [ChatGPT](https://chatgpt.com/)). AI can make mistakes, so be careful!"
   ]
  },
  {
   "cell_type": "markdown",
   "metadata": {},
   "source": [
    "### Forking the STARDIS Repository"
   ]
  },
  {
   "cell_type": "markdown",
   "metadata": {},
   "source": [
    "\"Forking\" a repository means creating a personal copy of a project so you can make edits to it. Later, these edits can be applied to the original project through a Pull Request, often shortened to \"PR\". The instructions here are will guide you through setting up STARDIS, but you can find more general instruction [here](https://docs.github.com/en/pull-requests/collaborating-with-pull-requests/working-with-forks/fork-a-repo) if you need extra help.\n",
    "\n",
    "1) Go to the [STARDIS Github page](https://github.com/tardis-sn/stardis).\n",
    "\n",
    "2) click **Fork**, which should be near the top right of the page.\n",
    "\n",
    "<div>\n",
    "<img src=\"fork.png\" width=\"400\"/>\n",
    "</div>\n",
    "\n",
    "3) By default, your account should be the Owner of this fork and \"Copy the `main` brach only\" should be selected. **click 'Create fork'**.\n"
   ]
  },
  {
   "cell_type": "markdown",
   "metadata": {},
   "source": [
    "### Setting up Stardis"
   ]
  },
  {
   "cell_type": "markdown",
   "metadata": {},
   "source": [
    "You should now be able to go through the STARDIS installation documentation. While everything you need to know should be there, here are some things to note:\n",
    "\n",
    "1) before starting, you need to create a directory/folder for STARDIS to be stored in. To do so, run these commands in the Bash terminal:\n",
    "    - `cd ~` <-- *changes directory (cd) to the home directory*\n",
    "    - `mkdir Stardis` <-- *makes directory (mkdir) named 'Stardis'*\n",
    "    - `cd Stardis`\n",
    "\n",
    "2) When setting up the STARDIS environment:\n",
    "    - Use the set of commands that use **Conda**, not Mamba.\n",
    "\n",
    "    - You won't need to run `cd <path-to-stardis-directory>` if you ran the prior three commands in step 1, as you will already be in the STARDIS directory. Otherwise, change `<path-to-stardis-directory>` to the path to your STARDIS directory.\n",
    "\n",
    "    - When replacing `{platform}` in the commands, use `osx-64` if you are on MacOS or `linux-64` if you are using WSL/Ubuntu on Windows.\n",
    "    \n",
    "    - When coping commands into terminal, do so one at a time, and don't include the '$ ' at the start!\n",
    "\n",
    "3) When given the choice, follow the instructions under the **For Developers** section\n",
    "\n",
    "4) You have already forked the repository and set up your SSH hey, so you don't have to worry about those steps!"
   ]
  },
  {
   "cell_type": "markdown",
   "metadata": {},
   "source": [
    "## Optional: Learning with Codecademy"
   ]
  },
  {
   "cell_type": "markdown",
   "metadata": {},
   "source": [
    "Through the course of setting up STARDIS, you had to copy many different commands into the Bash terminal. While many of these may seem alien or arbitrary now, over time you will learn more about what exactly these commands do. But until then, it may be helpful to look up resources to learn more about Bash commands.\n",
    "\n",
    "[Codecademy's](https://www.codecademy.com/learn) courses on learning python and command line are great resources for understanding the basics you'll need to work on STARDIS. Many other resources exist on the internet for learning these skills, we have just found Codecademy covers much of what you'll need to know for editing STARDIS. Namely, we recommend:\n",
    "\n",
    "- [Learn Python 2](https://www.codecademy.com/enrolled/courses/learn-python)\n",
    "\n",
    "- [Learn the Command Line](https://www.codecademy.com/enrolled/courses/learn-the-command-line)*\n",
    "\n",
    "\\* While 'Learn the Command Line' is not a free course, it can most likely be completed during your Codecademy free trial. Again, many other free resources exist out there, so feel free to choose a different option!"
   ]
  },
  {
   "cell_type": "markdown",
   "metadata": {},
   "source": []
  }
 ],
 "metadata": {
  "language_info": {
   "name": "python"
  }
 },
 "nbformat": 4,
 "nbformat_minor": 2
}
