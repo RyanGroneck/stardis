{
 "cells": [
  {
   "cell_type": "markdown",
   "metadata": {},
   "source": [
    "# Custom Atomic Data"
   ]
  },
  {
   "cell_type": "markdown",
   "metadata": {},
   "source": [
    "## Using Your Own Atomic Data\n",
    " To run a simulation, STARDIS requires an atomic data file that has information on the properties of atoms and molecules needed by STARDIS. While [\"kurucz_cd23_chianti_H_He.h5\"](https://github.com/tardis-sn/tardis-regression-data/raw/main/atom_data/kurucz_cd23_chianti_H_He.h5) is used in the STARDIS quickstart documentation, you can create and use other atomic data files by using [CARSUS](https://tardis-sn.github.io/carsus/). For more information on using CARSUS you can access the [CARSUS documentation](https://tardis-sn.github.io/carsus/index.html)."
   ]
  },
  {
   "cell_type": "markdown",
   "metadata": {},
   "source": [
    "### Relevant CARSUS Data to Collect\n",
    "While CARSUS accumulates all sorts of data when compiling the atomic data files, not everything it can include is necessary or relevant for running STARDIS. Here is a list of what data/readers you should make sure to include when running CARSUS:\n",
    "\n",
    "- [atomic weights & ionization energy from NIST](https://tardis-sn.github.io/carsus/io/nist.html)\n",
    "- [Robert Kurucz’s Atomic Linelist (GFALL)](https://tardis-sn.github.io/carsus/io/gfall.html)\n",
    "- [atomic and molecular transitions from VALD](https://tardis-sn.github.io/carsus/io/vald.html)\n",
    "- [Molecular formation from Barklem & Collet 2016](https://tardis-sn.github.io/carsus/io/barklem2016.html)\n"
   ]
  },
  {
   "cell_type": "markdown",
   "metadata": {},
   "source": [
    "### Using an Atomic Data File"
   ]
  },
  {
   "cell_type": "markdown",
   "metadata": {},
   "source": [
    "Your atomic data file should have the file extension `.h5` . To use your new atomic data file in a simulation, add/edit the line in your YAML file `atom_data: <path/to/atom_data>`. You can reference the [STARDIS Configuration YAML structure here](../quickstart/quickstart.ipynb#the-stardis-configuration), but you should set the atomic data file on the second line of your YAML file, as shown below."
   ]
  },
  {
   "cell_type": "markdown",
   "metadata": {},
   "source": [
    "``` yaml\n",
    "stardis_config_version: 1.0\n",
    "atom_data: <path/to/atomic_data>\n",
    "input_model:\n",
    "...\n",
    "```"
   ]
  },
  {
   "cell_type": "markdown",
   "metadata": {},
   "source": [
    "## Using VALD linelists\n",
    "\n",
    "Possibly one of the most important reasons you would want to use a custom atomic data file would be to take advantage of a tailored VALD linelist. You can refer to [VALD's documentation](https://www.astro.uu.se/valdwiki) for information on these lists if you are unfamiliar. To create a detailed and accurate stellar spectrum, we highly recommend looking into using a VALD linelist bundled into your atomic data."
   ]
  },
  {
   "cell_type": "markdown",
   "metadata": {},
   "source": [
    "If you have included a VALD linelist in your atomic data file, then you must make the following change to your YAML file for the linelist to be used:\n",
    "``` yaml\n",
    "...\n",
    "line:\n",
    "        disable: False\n",
    "        broadening: [radiation, linear_stark, quadratic_stark, van_der_waals]\n",
    "        vald_linelist:  #<-----\n",
    "            use_linelist: True #<----- will default to false, so must set to True\n",
    "            shortlist: <boolean> #<----- VALD can output lists in 'long' form or 'short' form; set accordingly\n",
    "no_of_thetas: 20\n",
    "...\n",
    "```"
   ]
  },
  {
   "cell_type": "markdown",
   "metadata": {},
   "source": []
  }
 ],
 "metadata": {
  "kernelspec": {
   "display_name": "stardis",
   "language": "python",
   "name": "python3"
  },
  "language_info": {
   "codemirror_mode": {
    "name": "ipython",
    "version": 3
   },
   "file_extension": ".py",
   "mimetype": "text/x-python",
   "name": "python",
   "nbconvert_exporter": "python",
   "pygments_lexer": "ipython3",
   "version": "3.12.4"
  }
 },
 "nbformat": 4,
 "nbformat_minor": 2
}
