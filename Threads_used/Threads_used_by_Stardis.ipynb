{
 "cells": [
  {
   "cell_type": "markdown",
   "metadata": {},
   "source": [
    "### Setting number of threads used in running a STARDIS simulation"
   ]
  },
  {
   "cell_type": "markdown",
   "metadata": {},
   "source": [
    "When you run a STARDIS simulation, the .yml file determines how many threads are used. By default it will only use 1 thread. The more threads you set a simulation to use, the more computing power the simulation will take advantage of.\n",
    "\n",
    " **Setting n_threads to 0 will make the simulation use all available threads.**"
   ]
  },
  {
   "cell_type": "markdown",
   "metadata": {},
   "source": [
    "Here is a what a yaml file that has the STARDIS simulation use 3 threads will look like\n",
    "\n",
    "``` yaml\n",
    "stardis_config_version: 1.0\n",
    "n_threads: 3 # <-----------  add your 'n_threads: <integer>' here\n",
    "atom_data: kurucz_cd23_chianti_H_He.h5\n",
    "model:\n",
    "    ...\n",
    "```\n"
   ]
  },
  {
   "cell_type": "markdown",
   "metadata": {},
   "source": [
    "When running larger or more intensive simulations, increasing the number of threads used can often speed up your computing time. Note that this will make the running of the simulation more taxing on your computer."
   ]
  }
 ],
 "metadata": {
  "kernelspec": {
   "display_name": "stardis",
   "language": "python",
   "name": "python3"
  },
  "language_info": {
   "codemirror_mode": {
    "name": "ipython",
    "version": 3
   },
   "file_extension": ".py",
   "mimetype": "text/x-python",
   "name": "python",
   "nbconvert_exporter": "python",
   "pygments_lexer": "ipython3",
   "version": "3.12.4"
  }
 },
 "nbformat": 4,
 "nbformat_minor": 2
}
