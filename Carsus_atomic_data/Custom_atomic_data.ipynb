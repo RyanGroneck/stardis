{
 "cells": [
  {
   "cell_type": "markdown",
   "metadata": {},
   "source": [
    "### **Using Your Own Atomic Data**\n",
    "##### To run a simulation, STARDIS requires an atomic data file that has information on the properties and quntities of atoms (and possibly elements) in the stellar model you want to use. While [\"kurucz_cd23_chianti_H_He.h5\"](https://dev.azure.com/tardis-sn/TARDIS/_apis/git/repositories/tardis-refdata/items?path=atom_data/kurucz_cd23_chianti_H_He.h5&resolveLfs=true) is the default atomic data used (and recommended) by STARDIS, you can create and use other atomic data files by using [CARSUS](https://tardis-sn.github.io/carsus/). For more information of using CARSUS you can access its [documentation](https://tardis-sn.github.io/carsus/index.html)."
   ]
  },
  {
   "cell_type": "markdown",
   "metadata": {},
   "source": [
    "### Relevant CARSUS Data to Collect\n",
    "While CARSUS accumulates all sorts of data when compiling the atomic data files, not everything it can include is neccessary or relevant for running STARDUS. Here is a list of what data/readers you should make sure to include when running CARSUS:\n",
    "- [atomic weights & ionization energy from NIST](https://tardis-sn.github.io/carsus/io/nist.html)\n",
    "- [Robert Kurucz’s Atomic Linelist (GFALL)](https://tardis-sn.github.io/carsus/io/gfall.html)\n",
    "- [atomic and molecular transitions from VALD](https://tardis-sn.github.io/carsus/io/vald.html)\n",
    "- [Molecular formation from Barklem & Collet 2016](https://tardis-sn.github.io/carsus/io/barklem2016.html)\n",
    "\n",
    "Note that including other data won't harm your simulation, but nothing else is strictly necessarily"
   ]
  },
  {
   "cell_type": "markdown",
   "metadata": {},
   "source": [
    "### Use CARSUS and follow their documentation to get a data file:\n",
    "### https://tardis-sn.github.io/carsus/"
   ]
  },
  {
   "cell_type": "markdown",
   "metadata": {},
   "source": [
    "##### To use new atomic data file in a simulation,  add/edit the line in your yaml file `atom_data: <path/to/atomic_data>`. This path can be *either* the relative or absolute path"
   ]
  },
  {
   "cell_type": "markdown",
   "metadata": {},
   "source": [
    "Your atom data should have the file extension '.h5'. The file 'kurucz_cd23_chianti_H_He.h5' referenced below is the default atomic_data used by STARDIS,.\n",
    "``` yaml\n",
    "stardis_config_version: 1.0\n",
    "atom_data: kurucz_cd23_chianti_H_He.h5 # <----- put the relative or absolute path here\n",
    "model:\n",
    "...\n",
    "```"
   ]
  },
  {
   "cell_type": "markdown",
   "metadata": {},
   "source": [
    "### Using VALD linelists\n",
    "\n",
    "Possibly one of the most important reasons you would want to use a custom atomic data file would be to take advantage of a tailored VALD linelist. You can refer to [VALD's documentation](https://www.astro.uu.se/valdwiki) for information on these lists if you are unfamiliar. "
   ]
  },
  {
   "cell_type": "markdown",
   "metadata": {},
   "source": [
    "If you have included a VALD linelist in your atom_data file, then you **must** make the following change to your Yaml file for the linelist to be used:\n",
    "``` yaml\n",
    "...\n",
    "line:\n",
    "        disable: False\n",
    "        broadening: [radiation, linear_stark, quadratic_stark, van_der_waals]\n",
    "        vald_linelist:  #<-----\n",
    "            use_linelist: True #<----- will default to false, so must set to True\n",
    "            shortlist: \n",
    "no_of_thetas: 20\n",
    "...\n",
    "```"
   ]
  }
 ],
 "metadata": {
  "kernelspec": {
   "display_name": "stardis",
   "language": "python",
   "name": "python3"
  },
  "language_info": {
   "codemirror_mode": {
    "name": "ipython",
    "version": 3
   },
   "file_extension": ".py",
   "mimetype": "text/x-python",
   "name": "python",
   "nbconvert_exporter": "python",
   "pygments_lexer": "ipython3",
   "version": "3.12.4"
  }
 },
 "nbformat": 4,
 "nbformat_minor": 2
}
